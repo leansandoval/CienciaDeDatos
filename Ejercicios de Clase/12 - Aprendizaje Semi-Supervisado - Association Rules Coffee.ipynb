{
 "cells": [
  {
   "cell_type": "code",
   "execution_count": null,
   "metadata": {
    "executionInfo": {
     "elapsed": 19,
     "status": "ok",
     "timestamp": 1750291791962,
     "user": {
      "displayName": "Luis Di Nicco",
      "userId": "09330020554994464081"
     },
     "user_tz": 180
    },
    "id": "KONhYyU8qGxR"
   },
   "outputs": [],
   "source": [
    "import copy\n",
    "import matplotlib\n",
    "import matplotlib.pyplot as plt\n",
    "import pandas as pd\n",
    "import plotly.express as px\n",
    "import seaborn as sns\n",
    "\n",
    "from mlxtend.frequent_patterns import apriori, association_rules\n",
    "from PIL import Image\n",
    "from pylab import rcParams\n",
    "\n",
    "import warnings\n",
    "warnings.filterwarnings(\"ignore\", category=DeprecationWarning)"
   ]
  },
  {
   "cell_type": "markdown",
   "metadata": {
    "id": "GSF5MgXF1usx"
   },
   "source": [
    "# Análisis"
   ]
  },
  {
   "cell_type": "code",
   "execution_count": null,
   "metadata": {
    "executionInfo": {
     "elapsed": 647,
     "status": "ok",
     "timestamp": 1750291792607,
     "user": {
      "displayName": "Luis Di Nicco",
      "userId": "09330020554994464081"
     },
     "user_tz": 180
    },
    "id": "WUaN_g7FpcAr"
   },
   "outputs": [],
   "source": [
    "df_items = pd.read_csv(\"https://raw.githubusercontent.com/pokengineer/DataScience/main/datasets/coffee_items.csv\")\n",
    "df_orders = pd.read_csv(\"https://raw.githubusercontent.com/pokengineer/DataScience/main/datasets/coffee_orders.csv\")"
   ]
  },
  {
   "cell_type": "code",
   "execution_count": null,
   "metadata": {
    "colab": {
     "base_uri": "https://localhost:8080/",
     "height": 206
    },
    "executionInfo": {
     "elapsed": 39,
     "status": "ok",
     "timestamp": 1750291792644,
     "user": {
      "displayName": "Luis Di Nicco",
      "userId": "09330020554994464081"
     },
     "user_tz": 180
    },
    "id": "HQlTCu8Fpoz5",
    "outputId": "8813e259-91e3-4f47-df6d-33829a96a509"
   },
   "outputs": [],
   "source": [
    "df_items.head()"
   ]
  },
  {
   "cell_type": "code",
   "execution_count": null,
   "metadata": {
    "colab": {
     "base_uri": "https://localhost:8080/",
     "height": 206
    },
    "executionInfo": {
     "elapsed": 54,
     "status": "ok",
     "timestamp": 1750291792703,
     "user": {
      "displayName": "Luis Di Nicco",
      "userId": "09330020554994464081"
     },
     "user_tz": 180
    },
    "id": "aoVa2n2ppqBh",
    "outputId": "bca5279f-b06c-467b-cdad-ded3fc18a412"
   },
   "outputs": [],
   "source": [
    "df_orders.head()"
   ]
  },
  {
   "cell_type": "code",
   "execution_count": null,
   "metadata": {
    "colab": {
     "base_uri": "https://localhost:8080/"
    },
    "executionInfo": {
     "elapsed": 21,
     "status": "ok",
     "timestamp": 1750291792737,
     "user": {
      "displayName": "Luis Di Nicco",
      "userId": "09330020554994464081"
     },
     "user_tz": 180
    },
    "id": "M7knoecsprop",
    "outputId": "73e16983-03f4-4120-de9e-bbbeecd4dbef"
   },
   "outputs": [],
   "source": [
    "print(df_orders.shape[0])"
   ]
  },
  {
   "cell_type": "code",
   "execution_count": null,
   "metadata": {
    "colab": {
     "base_uri": "https://localhost:8080/"
    },
    "executionInfo": {
     "elapsed": 8,
     "status": "ok",
     "timestamp": 1750291792757,
     "user": {
      "displayName": "Luis Di Nicco",
      "userId": "09330020554994464081"
     },
     "user_tz": 180
    },
    "id": "sPBOiiTn0483",
    "outputId": "59b795e5-969c-4f99-c5eb-970ab620e552"
   },
   "outputs": [],
   "source": [
    "df_orders.order_id.duplicated().sum()"
   ]
  },
  {
   "cell_type": "code",
   "execution_count": null,
   "metadata": {
    "colab": {
     "base_uri": "https://localhost:8080/",
     "height": 53
    },
    "executionInfo": {
     "elapsed": 58,
     "status": "ok",
     "timestamp": 1750291792816,
     "user": {
      "displayName": "Luis Di Nicco",
      "userId": "09330020554994464081"
     },
     "user_tz": 180
    },
    "id": "5-xRVONHqlmC",
    "outputId": "2c8fc7d8-bcce-4029-904d-58bab059fdda"
   },
   "outputs": [],
   "source": [
    "df_orders[df_orders['quantity']<=0]"
   ]
  },
  {
   "cell_type": "markdown",
   "metadata": {
    "id": "8FQdqcj618AO"
   },
   "source": [
    "# Columna de descripción"
   ]
  },
  {
   "cell_type": "code",
   "execution_count": null,
   "metadata": {
    "executionInfo": {
     "elapsed": 12,
     "status": "ok",
     "timestamp": 1750291792830,
     "user": {
      "displayName": "Luis Di Nicco",
      "userId": "09330020554994464081"
     },
     "user_tz": 180
    },
    "id": "vmkLPmfs1_1W"
   },
   "outputs": [],
   "source": [
    "df_items['descripcion'] =df_items.apply(lambda x: str(x['item_name']) if x['item_size']!= x['item_size'] else  str(x['item_name']) + ' | ' + str(x['item_size']) , axis=1)"
   ]
  },
  {
   "cell_type": "code",
   "execution_count": null,
   "metadata": {
    "colab": {
     "base_uri": "https://localhost:8080/",
     "height": 206
    },
    "executionInfo": {
     "elapsed": 38,
     "status": "ok",
     "timestamp": 1750291792878,
     "user": {
      "displayName": "Luis Di Nicco",
      "userId": "09330020554994464081"
     },
     "user_tz": 180
    },
    "id": "RvqmmRm32rrY",
    "outputId": "5a652518-8610-4305-fde5-2fa9cdff017d"
   },
   "outputs": [],
   "source": [
    "df_items.head(5)"
   ]
  },
  {
   "cell_type": "code",
   "execution_count": null,
   "metadata": {
    "executionInfo": {
     "elapsed": 4,
     "status": "ok",
     "timestamp": 1750291792915,
     "user": {
      "displayName": "Luis Di Nicco",
      "userId": "09330020554994464081"
     },
     "user_tz": 180
    },
    "id": "wIIw0kV029_X"
   },
   "outputs": [],
   "source": [
    "df_orders = pd.merge(df_orders,df_items[['item_id','descripcion']],on='item_id',how='left')"
   ]
  },
  {
   "cell_type": "markdown",
   "metadata": {
    "id": "FDWswLq52AQR"
   },
   "source": [
    "# Reglas de asociación"
   ]
  },
  {
   "cell_type": "code",
   "execution_count": null,
   "metadata": {
    "colab": {
     "base_uri": "https://localhost:8080/",
     "height": 490
    },
    "executionInfo": {
     "elapsed": 68,
     "status": "ok",
     "timestamp": 1750292004758,
     "user": {
      "displayName": "Luis Di Nicco",
      "userId": "09330020554994464081"
     },
     "user_tz": 180
    },
    "id": "Hccw62ebqq0A",
    "outputId": "2b66a13a-5cc2-430c-c631-4e80b0b34cd4"
   },
   "outputs": [],
   "source": [
    "# Quitamos los ítems DOTCOM POSTAGE y POSTAGE porque no son productos.\n",
    "# Llenamos con 0 los pedidos donde un producto no fué comprado\n",
    "df_group = (df_orders.groupby(['order_id', 'descripcion'])['quantity'].sum().unstack().reset_index().fillna(0).set_index('order_id'))\n",
    "# Seteamos True/False dependiendo de cada valor\n",
    "df_group = df_group.applymap(lambda x: True if x >0 else False)\n",
    "df_group"
   ]
  },
  {
   "cell_type": "code",
   "execution_count": null,
   "metadata": {
    "colab": {
     "base_uri": "https://localhost:8080/",
     "height": 1000
    },
    "executionInfo": {
     "elapsed": 35,
     "status": "ok",
     "timestamp": 1750292023112,
     "user": {
      "displayName": "Luis Di Nicco",
      "userId": "09330020554994464081"
     },
     "user_tz": 180
    },
    "id": "y7yCo5kfrG7x",
    "outputId": "32b3b036-3ffa-41d1-fdb8-a53969376302"
   },
   "outputs": [],
   "source": [
    "x = 0.005\n",
    "frequent_itemsets = apriori(df_group, min_support=x, use_colnames=True)\n",
    "frequent_itemsets.sort_values(by=\"support\", ascending=False)"
   ]
  },
  {
   "cell_type": "code",
   "execution_count": null,
   "metadata": {
    "colab": {
     "base_uri": "https://localhost:8080/",
     "height": 258
    },
    "executionInfo": {
     "elapsed": 53,
     "status": "ok",
     "timestamp": 1750292025866,
     "user": {
      "displayName": "Luis Di Nicco",
      "userId": "09330020554994464081"
     },
     "user_tz": 180
    },
    "id": "pIhuZUtarALq",
    "outputId": "a1eaff1e-464a-47ea-f149-5750cab7b970"
   },
   "outputs": [],
   "source": [
    "rules = association_rules(frequent_itemsets, metric=\"lift\", min_threshold=1)\n",
    "# Ordenamos por confianza de mayor a menor\n",
    "rules.sort_values(by=\"confidence\", ascending=False).head(5)"
   ]
  },
  {
   "cell_type": "markdown",
   "metadata": {
    "id": "fgR2kjZQuaLl"
   },
   "source": [
    "# Consigna\n",
    "- Conceptualmente que representa la metrica 'support' y que representa la metrica 'confidence'\n",
    "\n",
    "Soporte: Cantidad de transacciones que contienen el itemset (a y B) sobre el total de transacciones\n",
    "\n",
    "Confianza: cantidad de transacciones que contienen A y B sobre las que contiene a A\n",
    "\n",
    "- Obtener las reglas de asociacion usando item_name en lugar de la descripcion\n",
    "- Obtener las reglas de asociacion del siguiente dataset: [Online Retail Dataset](http://archive.ics.uci.edu/ml/machine-learning-databases/00352/Online%20Retail.xlsx)\n",
    "\n",
    "Pueden usar pd.read_excel() para archivos xls o xlsx\n"
   ]
  },
  {
   "cell_type": "markdown",
   "metadata": {},
   "source": [
    "Quitamos los ítems DOTCOM POSTAGE y POSTAGE porque no son productos.\n",
    "\n",
    "Llenamos con 0 los pedidos donde un producto no fué comprado."
   ]
  },
  {
   "cell_type": "code",
   "execution_count": null,
   "metadata": {},
   "outputs": [],
   "source": [
    "df_group = (df_orders.groupby(['order_id', 'item_name'])['quantity'].sum().unstack().reset_index().fillna(0).set_index('order_id'))"
   ]
  },
  {
   "cell_type": "markdown",
   "metadata": {},
   "source": [
    "Seteamos True/False dependiendo de cada valor"
   ]
  },
  {
   "cell_type": "code",
   "execution_count": null,
   "metadata": {},
   "outputs": [],
   "source": [
    "df_group = df_group.applymap(lambda x: True if x >0 else False)\n",
    "df_group\n",
    "\n",
    "x = 0.005\n",
    "frequent_itemsets = apriori(df_group, min_support=x, use_colnames=True)\n",
    "frequent_itemsets.sort_values(by=\"support\", ascending=False)\n",
    "\n",
    "rules = association_rules(frequent_itemsets, metric=\"lift\", min_threshold=1)"
   ]
  },
  {
   "cell_type": "markdown",
   "metadata": {},
   "source": [
    "Ordenamos por confianza de mayor a menor"
   ]
  },
  {
   "cell_type": "code",
   "execution_count": null,
   "metadata": {
    "colab": {
     "base_uri": "https://localhost:8080/",
     "height": 293
    },
    "executionInfo": {
     "elapsed": 64,
     "status": "ok",
     "timestamp": 1750292201616,
     "user": {
      "displayName": "Luis Di Nicco",
      "userId": "09330020554994464081"
     },
     "user_tz": 180
    },
    "id": "URZw4B4Rus3k",
    "outputId": "fa1300fc-7054-4040-d7a7-9a7f8462a184"
   },
   "outputs": [],
   "source": [
    "rules.sort_values(by=\"confidence\", ascending=False).head(5)"
   ]
  }
 ],
 "metadata": {
  "colab": {
   "provenance": []
  },
  "kernelspec": {
   "display_name": "Python 3",
   "name": "python3"
  },
  "language_info": {
   "codemirror_mode": {
    "name": "ipython",
    "version": 3
   },
   "file_extension": ".py",
   "mimetype": "text/x-python",
   "name": "python",
   "nbconvert_exporter": "python",
   "pygments_lexer": "ipython3",
   "version": "3.13.5"
  }
 },
 "nbformat": 4,
 "nbformat_minor": 0
}
