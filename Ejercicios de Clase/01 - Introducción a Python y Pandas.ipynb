{
 "cells": [
  {
   "cell_type": "markdown",
   "metadata": {
    "id": "sT-1-3gEAUKP"
   },
   "source": [
    "# **Ejercicio 1**\n",
    "\n",
    "Una vez que el sistema de recaudaciones del nuevo canal de cobranzas está en producción se recibieron las siguientes transacciones correspondientes a pagos en pesos: 100, 300, 400, 500, 6000, 8000, 2012, 1231, 23, 20, 100, 100, 4000, 300, 500, 500, 600, 200, 200, 8000.\n",
    "\n",
    "1. Genere una variable con la cantidad de pago recibidos denominada “cant_pagos”.\n",
    "2. Genere un vector con los valores únicos de los pagos realizados llamado \"valores_unicos\".\n",
    "3. Ordene de menor a mayor los pagos en un vector llamado \"pagos_ordenados\".\n",
    "4. ¿Cuál es el mínimo valor que se cobró y cual es el máximo valor que se cobró?\n",
    "5. Genere un nuevo vector denominado \"comision\" con las comisiones de las cobranzas que se deben abonar al recaudador, recuerde que se cobra el 1.2%.\n",
    "6. Realice otro vector denominado \"comision_pagada\" teniendo en cuenta que si la comisión no supera los 8 pesos el valor mínimo de cobranzas es de 8 pesos.\n",
    "7. Cuántas operaciones se pagaron 8 pesos por no superar ese tope?\n",
    "8. ¿Cuánto pagué de comisiones y cuanto deberia haber pagado sin no estuviera el tope?\n",
    "---"
   ]
  },
  {
   "cell_type": "code",
   "execution_count": 15,
   "metadata": {
    "id": "rtNjhsKoL6zl"
   },
   "outputs": [],
   "source": [
    "pagos = [100, 300, 400, 500, 6000, 8000, 2012, 1231, 23, 20, 100, 100, 4000, 300, 500, 500, 600, 200, 200, 8000]"
   ]
  },
  {
   "cell_type": "markdown",
   "metadata": {
    "id": "qWSXNBGrMXu0"
   },
   "source": [
    "## Resolucion Punto 1\n",
    "Genere una variable con la cantidad de pago recibidos denominada “cant_pagos”"
   ]
  },
  {
   "cell_type": "code",
   "execution_count": 16,
   "metadata": {
    "colab": {
     "base_uri": "https://localhost:8080/"
    },
    "executionInfo": {
     "elapsed": 19,
     "status": "ok",
     "timestamp": 1745439473872,
     "user": {
      "displayName": "Luis Di Nicco",
      "userId": "09330020554994464081"
     },
     "user_tz": 180
    },
    "id": "rDYFb6VXMXNu",
    "outputId": "8634c224-2832-4a1c-966b-87bc63ddba5d"
   },
   "outputs": [
    {
     "name": "stdout",
     "output_type": "stream",
     "text": [
      "20\n"
     ]
    }
   ],
   "source": [
    "cant_pagos = len(pagos)\n",
    "print(cant_pagos)"
   ]
  },
  {
   "cell_type": "markdown",
   "metadata": {
    "id": "le7TE93hMd0U"
   },
   "source": [
    "## Resolucion Punto 2\n",
    "Genere un vector con los valores únicos de los pagos realizados llamado \"valores_unicos\"."
   ]
  },
  {
   "cell_type": "code",
   "execution_count": 17,
   "metadata": {
    "colab": {
     "base_uri": "https://localhost:8080/"
    },
    "executionInfo": {
     "elapsed": 8,
     "status": "ok",
     "timestamp": 1745439476045,
     "user": {
      "displayName": "Luis Di Nicco",
      "userId": "09330020554994464081"
     },
     "user_tz": 180
    },
    "id": "BRGIAIbIMsLP",
    "outputId": "d7953800-fbdf-49cf-ce9d-56c11141f1e7"
   },
   "outputs": [
    {
     "name": "stdout",
     "output_type": "stream",
     "text": [
      "[8000, 4000, 100, 200, 300, 1231, 400, 6000, 500, 20, 23, 600, 2012]\n"
     ]
    }
   ],
   "source": [
    "valores_unicos=list(set(pagos))\n",
    "print(valores_unicos)"
   ]
  },
  {
   "cell_type": "markdown",
   "metadata": {
    "id": "qr_z_gf1MeJc"
   },
   "source": [
    "## Resolucion Punto 3\n",
    "Ordene de menor a mayor los pagos en un vector llamado \"pagos_ordenados\"."
   ]
  },
  {
   "cell_type": "code",
   "execution_count": 18,
   "metadata": {
    "colab": {
     "base_uri": "https://localhost:8080/"
    },
    "executionInfo": {
     "elapsed": 21,
     "status": "ok",
     "timestamp": 1745439478973,
     "user": {
      "displayName": "Luis Di Nicco",
      "userId": "09330020554994464081"
     },
     "user_tz": 180
    },
    "id": "4l2DYM8DMsgX",
    "outputId": "46f934c4-edca-450b-f6d9-6721ffa751e5"
   },
   "outputs": [
    {
     "name": "stdout",
     "output_type": "stream",
     "text": [
      "[20, 23, 100, 100, 100, 200, 200, 300, 300, 400, 500, 500, 500, 600, 1231, 2012, 4000, 6000, 8000, 8000]\n"
     ]
    }
   ],
   "source": [
    "pagos_ordenados = sorted(pagos)\n",
    "print(pagos_ordenados)"
   ]
  },
  {
   "cell_type": "markdown",
   "metadata": {
    "id": "8v7wO_8LMeMM"
   },
   "source": [
    "## Resolucion Punto 4\n",
    "¿Cuál es el mínimo valor que se cobró y cual es el máximo valor que se cobró?"
   ]
  },
  {
   "cell_type": "code",
   "execution_count": 19,
   "metadata": {
    "colab": {
     "base_uri": "https://localhost:8080/"
    },
    "executionInfo": {
     "elapsed": 49,
     "status": "ok",
     "timestamp": 1745439552240,
     "user": {
      "displayName": "Luis Di Nicco",
      "userId": "09330020554994464081"
     },
     "user_tz": 180
    },
    "id": "76Bp5B2yMs2n",
    "outputId": "39bac16f-a6ca-45ff-9873-b0f7431878f0"
   },
   "outputs": [
    {
     "name": "stdout",
     "output_type": "stream",
     "text": [
      "El pago mínimo fue: 20\n",
      "El pago máximo fue: 8000\n"
     ]
    }
   ],
   "source": [
    "pago_minimo = min(pagos)\n",
    "pago_maximo = max(pagos)\n",
    "print(f\"El pago mínimo fue: {pago_minimo}\")\n",
    "print(f\"El pago máximo fue: {pago_maximo}\")"
   ]
  },
  {
   "cell_type": "markdown",
   "metadata": {
    "id": "EpexlKjtMePk"
   },
   "source": [
    "## Resolucion Punto 5\n",
    "Genere un nuevo vector denominado \"comision\" con las comisiones de las cobranzas que se deben abonar al recaudador, recuerde que se cobra el 1.2%."
   ]
  },
  {
   "cell_type": "code",
   "execution_count": 20,
   "metadata": {
    "colab": {
     "base_uri": "https://localhost:8080/"
    },
    "executionInfo": {
     "elapsed": 7,
     "status": "ok",
     "timestamp": 1745439558845,
     "user": {
      "displayName": "Luis Di Nicco",
      "userId": "09330020554994464081"
     },
     "user_tz": 180
    },
    "id": "guu4Xv6-MtRX",
    "outputId": "10411eb1-017d-4ad8-ded3-e8651ac0c757"
   },
   "outputs": [
    {
     "name": "stdout",
     "output_type": "stream",
     "text": [
      "[1.2, 3.6, 4.8, 6.0, 72.0, 96.0, 24.144000000000002, 14.772, 0.276, 0.24, 1.2, 1.2, 48.0, 3.6, 6.0, 6.0, 7.2, 2.4, 2.4, 96.0]\n"
     ]
    }
   ],
   "source": [
    "comision=[p*0.012 for p in pagos]\n",
    "print(comision)"
   ]
  },
  {
   "cell_type": "markdown",
   "metadata": {
    "id": "BdPuSwBUQCFH"
   },
   "source": [
    "## Resolución Punto 6\n",
    "Realice otro vector denominado \"comision_pagada\" teniendo en cuenta que si la comisión no supera los 8 pesos el valor mínimo de cobranzas es de 8 pesos."
   ]
  },
  {
   "cell_type": "code",
   "execution_count": 21,
   "metadata": {
    "colab": {
     "base_uri": "https://localhost:8080/"
    },
    "executionInfo": {
     "elapsed": 6,
     "status": "ok",
     "timestamp": 1745439561329,
     "user": {
      "displayName": "Luis Di Nicco",
      "userId": "09330020554994464081"
     },
     "user_tz": 180
    },
    "id": "_ZVpKWT5QBty",
    "outputId": "828f59a5-ef52-41b8-f711-6e4a2a2614a0"
   },
   "outputs": [
    {
     "name": "stdout",
     "output_type": "stream",
     "text": [
      "[8, 8, 8, 8, 72.0, 96.0, 24.144000000000002, 14.772, 8, 8, 8, 8, 48.0, 8, 8, 8, 8, 8, 8, 96.0]\n"
     ]
    }
   ],
   "source": [
    "comision_pagada=[c if c > 8 else 8 for c in comision]\n",
    "print(comision_pagada)"
   ]
  },
  {
   "cell_type": "markdown",
   "metadata": {
    "id": "X5UaZLu-QMe0"
   },
   "source": [
    "## Resolución Punto 7\n",
    "Cuántas operaciones se pagaron 8 pesos por no superar ese tope?"
   ]
  },
  {
   "cell_type": "code",
   "execution_count": 22,
   "metadata": {
    "colab": {
     "base_uri": "https://localhost:8080/"
    },
    "executionInfo": {
     "elapsed": 14,
     "status": "ok",
     "timestamp": 1745439567217,
     "user": {
      "displayName": "Luis Di Nicco",
      "userId": "09330020554994464081"
     },
     "user_tz": 180
    },
    "id": "aDJgfVXGQMTO",
    "outputId": "d19ad09f-368d-4784-d037-95dbce23b697"
   },
   "outputs": [
    {
     "name": "stdout",
     "output_type": "stream",
     "text": [
      "14\n"
     ]
    }
   ],
   "source": [
    "comision_menos8=[c for c in comision if c <= 8 ]\n",
    "print(len(comision_menos8))"
   ]
  },
  {
   "cell_type": "markdown",
   "metadata": {
    "id": "RATp66yQQTt7"
   },
   "source": [
    "## Resolución Punto 8\n",
    "¿Cuánto pagué de comisiones y cuanto deberia haber pagado sin no estuviera el tope?"
   ]
  },
  {
   "cell_type": "code",
   "execution_count": 23,
   "metadata": {
    "colab": {
     "base_uri": "https://localhost:8080/"
    },
    "executionInfo": {
     "elapsed": 41,
     "status": "ok",
     "timestamp": 1745439611340,
     "user": {
      "displayName": "Luis Di Nicco",
      "userId": "09330020554994464081"
     },
     "user_tz": 180
    },
    "id": "F9Q3BVMuQTfI",
    "outputId": "39ca52d4-8fa5-4057-dec9-90884a86bc3e"
   },
   "outputs": [
    {
     "name": "stdout",
     "output_type": "stream",
     "text": [
      "Comision que deberia haber pagado: 397.032\n",
      "Comision que pague realmente: 462.916\n"
     ]
    }
   ],
   "source": [
    "print(f\"Comision que deberia haber pagado: {sum(comision)}\")\n",
    "print(f\"Comision que pague realmente: {sum(comision_pagada)}\")"
   ]
  },
  {
   "cell_type": "markdown",
   "metadata": {
    "id": "hgEoiUxwAnLE"
   },
   "source": [
    "---\n",
    "# **Ejercicio  2**\n",
    "Generar la función denominada calculoIMC que tenga como parámetros peso y altura. Tener en cuenta:\n",
    "\n",
    "*   Convertir la altura de pulgadas a metros (indice 0.0254)\n",
    "*   Convertir el peso de libras a kg (índice 0.453592)\n",
    "*   La función es peso dividido la altura al cuadrado.\n",
    "\n",
    "Verificar que la función para el siguiente caso:\n",
    "\n",
    "*   peso: 112.9925\n",
    "*   altura: 65.78331\n",
    "\n",
    "Armar una función **lambda** equivalente a la función calculoIMC.\n",
    "\n",
    "---"
   ]
  },
  {
   "cell_type": "markdown",
   "metadata": {
    "id": "x3sny7QRTyf-"
   },
   "source": [
    "### Función normal"
   ]
  },
  {
   "cell_type": "code",
   "execution_count": 24,
   "metadata": {
    "id": "b9e7v9YjAn3t"
   },
   "outputs": [],
   "source": [
    "def calculoIMC(peso_libras, altura_pulgadas):\n",
    "    return (peso_libras*0.453592)/((altura_pulgadas*0.0254)**2)"
   ]
  },
  {
   "cell_type": "markdown",
   "metadata": {
    "id": "U0BYUz59Uswl"
   },
   "source": [
    "## Función lambda"
   ]
  },
  {
   "cell_type": "code",
   "execution_count": 25,
   "metadata": {
    "colab": {
     "base_uri": "https://localhost:8080/"
    },
    "executionInfo": {
     "elapsed": 14,
     "status": "ok",
     "timestamp": 1745439897287,
     "user": {
      "displayName": "Luis Di Nicco",
      "userId": "09330020554994464081"
     },
     "user_tz": 180
    },
    "id": "FSFsx4QTT0eo",
    "outputId": "ec94877d-6beb-4038-fa01-d819a7ea9be9"
   },
   "outputs": [
    {
     "data": {
      "text/plain": [
       "<function __main__.<lambda>(peso_libras, altura_pulgadas)>"
      ]
     },
     "execution_count": 25,
     "metadata": {},
     "output_type": "execute_result"
    }
   ],
   "source": [
    "lambda peso_libras,altura_pulgadas: (peso_libras*0.453592)/((altura_pulgadas*0.0254)**2)"
   ]
  },
  {
   "cell_type": "code",
   "execution_count": 26,
   "metadata": {
    "id": "ZxmkNRKJUf3w"
   },
   "outputs": [],
   "source": [
    "calculoIMC_lambda = lambda peso_libras, altura_pulgadas:(peso_libras * 0.453592) / ((altura_pulgadas * 0.0254) ** 2)"
   ]
  },
  {
   "cell_type": "code",
   "execution_count": 27,
   "metadata": {
    "colab": {
     "base_uri": "https://localhost:8080/"
    },
    "executionInfo": {
     "elapsed": 28,
     "status": "ok",
     "timestamp": 1745439911572,
     "user": {
      "displayName": "Luis Di Nicco",
      "userId": "09330020554994464081"
     },
     "user_tz": 180
    },
    "id": "R_3ZWHcrUwtw",
    "outputId": "014441c5-13ec-4af5-9482-898ca8831940"
   },
   "outputs": [
    {
     "name": "stdout",
     "output_type": "stream",
     "text": [
      "IMC (lambda): 18.35760947545468\n",
      "IMC: 18.35760947545468\n"
     ]
    }
   ],
   "source": [
    "print(\"IMC (lambda):\", calculoIMC_lambda(112.9925, 65.78331))\n",
    "print(\"IMC:\", calculoIMC(112.9925, 65.78331))"
   ]
  },
  {
   "cell_type": "markdown",
   "metadata": {
    "id": "hQHFGydUL6zn"
   },
   "source": [
    "---\n",
    "# **Ejercicio 3**\n",
    "Contexto: Un sistema registró los siguientes datos de clientes: edades, ingresos mensuales en dólares, y géneros.\n",
    "\n",
    "* ¿Cuál es la edad promedio de los clientes?\n",
    "* ¿Cuál es el ingreso máximo y el mínimo?\n",
    "* Calcule el ingreso promedio para mujeres y para varones.\n",
    "* Genere una lista de booleanos que indique si cada cliente gana más que el promedio general.\n",
    "\n",
    "---"
   ]
  },
  {
   "cell_type": "code",
   "execution_count": null,
   "metadata": {
    "id": "avnQDsj6L6zo"
   },
   "outputs": [],
   "source": [
    "import pandas as pd # type: ignore\n",
    "\n",
    "data = {\n",
    "    \"edad\": [25, 34, 22, 45, 52, 23, 31, 40, 29, 37, 28],\n",
    "    \"ingreso\": [1800, 2500, 1200, 4000, 5200, 1300, 2100, 3000, 1600, 2700, 2000],\n",
    "    \"genero\": [\"F\", \"M\", \"F\", \"M\", \"M\", \"F\", \"F\", \"M\", \"F\", \"M\", \"F\"]\n",
    "}"
   ]
  },
  {
   "cell_type": "markdown",
   "metadata": {
    "id": "gGW9D0olXX4T"
   },
   "source": [
    "### Creacion del Dataframe"
   ]
  },
  {
   "cell_type": "code",
   "execution_count": null,
   "metadata": {
    "colab": {
     "base_uri": "https://localhost:8080/"
    },
    "executionInfo": {
     "elapsed": 17,
     "status": "ok",
     "timestamp": 1745440591166,
     "user": {
      "displayName": "Luis Di Nicco",
      "userId": "09330020554994464081"
     },
     "user_tz": 180
    },
    "id": "wcRh261YVzJi",
    "outputId": "a74d520d-a601-40c8-a857-3356452c60e9"
   },
   "outputs": [
    {
     "name": "stdout",
     "output_type": "stream",
     "text": [
      "    edad  ingreso genero\n",
      "0     25     1800      F\n",
      "1     34     2500      M\n",
      "2     22     1200      F\n",
      "3     45     4000      M\n",
      "4     52     5200      M\n",
      "5     23     1300      F\n",
      "6     31     2100      F\n",
      "7     40     3000      M\n",
      "8     29     1600      F\n",
      "9     37     2700      M\n",
      "10    28     2000      F\n"
     ]
    }
   ],
   "source": [
    "df = pd.DataFrame(data)\n",
    "print(df)"
   ]
  },
  {
   "cell_type": "markdown",
   "metadata": {
    "id": "O2DlXBvOYFJp"
   },
   "source": [
    "### Resolución Punto 1\n",
    "¿Cuál es la edad promedio de los clientes?"
   ]
  },
  {
   "cell_type": "code",
   "execution_count": 30,
   "metadata": {
    "colab": {
     "base_uri": "https://localhost:8080/"
    },
    "executionInfo": {
     "elapsed": 8,
     "status": "ok",
     "timestamp": 1745440865325,
     "user": {
      "displayName": "Luis Di Nicco",
      "userId": "09330020554994464081"
     },
     "user_tz": 180
    },
    "id": "QBbRxx7UVPcJ",
    "outputId": "bb91f23e-8f2e-4487-b605-a1db27e22b20"
   },
   "outputs": [
    {
     "name": "stdout",
     "output_type": "stream",
     "text": [
      "La edad promedio de los clientes es: 33.27272727272727\n"
     ]
    }
   ],
   "source": [
    "promedio_edad = df[\"edad\"].mean()\n",
    "print(f\"La edad promedio de los clientes es: {promedio_edad}\")"
   ]
  },
  {
   "cell_type": "markdown",
   "metadata": {
    "id": "pAi6KzwJYgYS"
   },
   "source": [
    "### Resolución Punto 2\n",
    "¿Cuál es el ingreso máximo y el mínimo?"
   ]
  },
  {
   "cell_type": "code",
   "execution_count": 31,
   "metadata": {
    "colab": {
     "base_uri": "https://localhost:8080/"
    },
    "executionInfo": {
     "elapsed": 35,
     "status": "ok",
     "timestamp": 1745441038618,
     "user": {
      "displayName": "Luis Di Nicco",
      "userId": "09330020554994464081"
     },
     "user_tz": 180
    },
    "id": "K24yjJvJYp1J",
    "outputId": "9c8719bf-4d24-48f1-f72d-10f28bb17d23"
   },
   "outputs": [
    {
     "name": "stdout",
     "output_type": "stream",
     "text": [
      "El ingreso minimo es: 1200)\n",
      "El ingreso maximo es: 5200)\n"
     ]
    }
   ],
   "source": [
    "ingreso_minimo = df['ingreso'].min()\n",
    "ingreso_maximo = df['ingreso'].max()\n",
    "\n",
    "print(f\"El ingreso minimo es: {ingreso_minimo})\")\n",
    "print(f\"El ingreso maximo es: {ingreso_maximo})\")"
   ]
  },
  {
   "cell_type": "markdown",
   "metadata": {
    "id": "49xq76mtYp-Y"
   },
   "source": [
    "### Resolución Punto 3\n",
    "Calcule el ingreso promedio para mujeres y para varones."
   ]
  },
  {
   "cell_type": "code",
   "execution_count": 32,
   "metadata": {
    "colab": {
     "base_uri": "https://localhost:8080/"
    },
    "executionInfo": {
     "elapsed": 6,
     "status": "ok",
     "timestamp": 1745441205923,
     "user": {
      "displayName": "Luis Di Nicco",
      "userId": "09330020554994464081"
     },
     "user_tz": 180
    },
    "id": "H1mV8mv0ZuhI",
    "outputId": "7c4a8cc8-e7cc-426f-9004-7db0424d787f"
   },
   "outputs": [
    {
     "name": "stdout",
     "output_type": "stream",
     "text": [
      "0      True\n",
      "1     False\n",
      "2      True\n",
      "3     False\n",
      "4     False\n",
      "5      True\n",
      "6      True\n",
      "7     False\n",
      "8      True\n",
      "9     False\n",
      "10     True\n",
      "Name: genero, dtype: bool\n"
     ]
    }
   ],
   "source": [
    "print(df['genero'] == \"F\")"
   ]
  },
  {
   "cell_type": "code",
   "execution_count": 33,
   "metadata": {
    "colab": {
     "base_uri": "https://localhost:8080/"
    },
    "executionInfo": {
     "elapsed": 7,
     "status": "ok",
     "timestamp": 1745441276802,
     "user": {
      "displayName": "Luis Di Nicco",
      "userId": "09330020554994464081"
     },
     "user_tz": 180
    },
    "id": "sECcFXpEZ_tA",
    "outputId": "640f72a3-7eb9-425d-baa1-98a4a2951324"
   },
   "outputs": [
    {
     "name": "stdout",
     "output_type": "stream",
     "text": [
      "0     1800\n",
      "2     1200\n",
      "5     1300\n",
      "6     2100\n",
      "8     1600\n",
      "10    2000\n",
      "Name: ingreso, dtype: int64\n"
     ]
    }
   ],
   "source": [
    "print(df[df['genero'] == \"F\"]['ingreso'])"
   ]
  },
  {
   "cell_type": "code",
   "execution_count": 34,
   "metadata": {
    "colab": {
     "base_uri": "https://localhost:8080/"
    },
    "executionInfo": {
     "elapsed": 47,
     "status": "ok",
     "timestamp": 1745441378042,
     "user": {
      "displayName": "Luis Di Nicco",
      "userId": "09330020554994464081"
     },
     "user_tz": 180
    },
    "id": "ogGF3MFhYwqp",
    "outputId": "203e7481-d632-4ef7-da98-0730037955e3"
   },
   "outputs": [
    {
     "name": "stdout",
     "output_type": "stream",
     "text": [
      "El ingreso promedio de las mujeres es: 1666.6666666666667\n"
     ]
    }
   ],
   "source": [
    "ingreso_promedio_mujeres = df[df['genero'] == \"F\"]['ingreso'].mean()\n",
    "print(f\"El ingreso promedio de las mujeres es: {ingreso_promedio_mujeres}\")"
   ]
  },
  {
   "cell_type": "code",
   "execution_count": 35,
   "metadata": {
    "colab": {
     "base_uri": "https://localhost:8080/"
    },
    "executionInfo": {
     "elapsed": 7,
     "status": "ok",
     "timestamp": 1745441398169,
     "user": {
      "displayName": "Luis Di Nicco",
      "userId": "09330020554994464081"
     },
     "user_tz": 180
    },
    "id": "qaD5wSZmaXHI",
    "outputId": "9ff047cf-6707-4303-8940-beb4d178c905"
   },
   "outputs": [
    {
     "name": "stdout",
     "output_type": "stream",
     "text": [
      "El ingreso promedio de los hombres es: 3480.0\n"
     ]
    }
   ],
   "source": [
    "#Alternativa usando df.loc\n",
    "ingreso_promedio_hombre = df.loc[df[\"genero\"] == \"M\", \"ingreso\"].mean()\n",
    "print(f\"El ingreso promedio de los hombres es: {ingreso_promedio_hombre}\")"
   ]
  },
  {
   "cell_type": "markdown",
   "metadata": {
    "id": "SOtP79kwYw5p"
   },
   "source": [
    "### Resolución Punto 4\n",
    "Genere una lista de booleanos que indique si cada cliente gana más que el promedio general."
   ]
  },
  {
   "cell_type": "code",
   "execution_count": 36,
   "metadata": {
    "colab": {
     "base_uri": "https://localhost:8080/"
    },
    "executionInfo": {
     "elapsed": 14,
     "status": "ok",
     "timestamp": 1745441624588,
     "user": {
      "displayName": "Luis Di Nicco",
      "userId": "09330020554994464081"
     },
     "user_tz": 180
    },
    "id": "nhgpkXSVYxAo",
    "outputId": "bfc72fb7-cadc-440f-8c38-f30bf26c7cea"
   },
   "outputs": [
    {
     "name": "stdout",
     "output_type": "stream",
     "text": [
      "El promedio de ingreso general es: 2490.909090909091\n",
      "[False, True, False, True, True, False, False, True, False, True, False]\n"
     ]
    }
   ],
   "source": [
    "promedio_ingreso_general = df['ingreso'].mean()\n",
    "print(f\"El promedio de ingreso general es: {promedio_ingreso_general}\")\n",
    "lista_cliente_gana_mas_que_promedio = list(df['ingreso'] > promedio_ingreso_general)\n",
    "print(lista_cliente_gana_mas_que_promedio)"
   ]
  }
 ],
 "metadata": {
  "colab": {
   "provenance": []
  },
  "kernelspec": {
   "display_name": "Python 3",
   "name": "python3"
  },
  "language_info": {
   "codemirror_mode": {
    "name": "ipython",
    "version": 3
   },
   "file_extension": ".py",
   "mimetype": "text/x-python",
   "name": "python",
   "nbconvert_exporter": "python",
   "pygments_lexer": "ipython3",
   "version": "3.13.5"
  }
 },
 "nbformat": 4,
 "nbformat_minor": 0
}
