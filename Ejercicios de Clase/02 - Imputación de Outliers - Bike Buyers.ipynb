{
 "cells": [
  {
   "cell_type": "markdown",
   "metadata": {
    "id": "WoSsEU6JHMZ_"
   },
   "source": [
    "# Ejercicio Binning, imputacion, outliers, dummies etc\n",
    "El siguiente Dataset contiene detalles de 1000 potenciales compradores de bicicletas, realizaremos un análisis exploratorio del mismo, imputando las variables que correspondan.\n",
    "\n",
    "1. ¿Cuáles de las variables contienen valores nulos?\n",
    "2. ¿Está Balanceada la variable target 'Purchased Bike'?\n",
    "3. Imputar los valores nulos de Gender con el valor 'X'.\n",
    "4. Imputar los valores nulos y outliers de Age con la media.\n",
    "5. Eliminar los registros con valor nulo en Cars.\n",
    "6. Generar columnas dummy para las variables Education y Occupation.\n",
    "7. Definir una estrategia de imputación para las otras variables que corresponda.\n",
    "8. Finalizar el análisis exploratorio con gráficos del dataset."
   ]
  },
  {
   "cell_type": "code",
   "execution_count": 71,
   "metadata": {
    "executionInfo": {
     "elapsed": 6,
     "status": "ok",
     "timestamp": 1745458442701,
     "user": {
      "displayName": "Luis Di Nicco",
      "userId": "09330020554994464081"
     },
     "user_tz": 180
    },
    "id": "s_5E0Hd7WY8g"
   },
   "outputs": [],
   "source": [
    "import pandas as pd\n",
    "import numpy as np\n",
    "import matplotlib.pyplot as plt\n",
    "import seaborn as sns"
   ]
  },
  {
   "cell_type": "code",
   "execution_count": 72,
   "metadata": {
    "executionInfo": {
     "elapsed": 52,
     "status": "ok",
     "timestamp": 1745458442754,
     "user": {
      "displayName": "Luis Di Nicco",
      "userId": "09330020554994464081"
     },
     "user_tz": 180
    },
    "id": "pL6BmlbmHMaD"
   },
   "outputs": [],
   "source": [
    "bike_buyers = pd.read_csv('https://raw.githubusercontent.com/pokengineer/DataScience/main/datasets/bike_buyers.csv')"
   ]
  },
  {
   "cell_type": "markdown",
   "metadata": {
    "id": "9bIbqGTfH1Vl"
   },
   "source": [
    "# Dataset"
   ]
  },
  {
   "cell_type": "code",
   "execution_count": 73,
   "metadata": {
    "colab": {
     "base_uri": "https://localhost:8080/",
     "height": 429
    },
    "executionInfo": {
     "elapsed": 65,
     "status": "ok",
     "timestamp": 1745458442820,
     "user": {
      "displayName": "Luis Di Nicco",
      "userId": "09330020554994464081"
     },
     "user_tz": 180
    },
    "id": "orQvq2qqHMaE",
    "outputId": "be985ce9-8b64-41bf-fe5c-455292b5b71f"
   },
   "outputs": [
    {
     "data": {
      "text/html": [
       "<div>\n",
       "<style scoped>\n",
       "    .dataframe tbody tr th:only-of-type {\n",
       "        vertical-align: middle;\n",
       "    }\n",
       "\n",
       "    .dataframe tbody tr th {\n",
       "        vertical-align: top;\n",
       "    }\n",
       "\n",
       "    .dataframe thead th {\n",
       "        text-align: right;\n",
       "    }\n",
       "</style>\n",
       "<table border=\"1\" class=\"dataframe\">\n",
       "  <thead>\n",
       "    <tr style=\"text-align: right;\">\n",
       "      <th></th>\n",
       "      <th>ID</th>\n",
       "      <th>Marital Status</th>\n",
       "      <th>Gender</th>\n",
       "      <th>Income</th>\n",
       "      <th>Children</th>\n",
       "      <th>Education</th>\n",
       "      <th>Occupation</th>\n",
       "      <th>Home Owner</th>\n",
       "      <th>Cars</th>\n",
       "      <th>Commute Distance</th>\n",
       "      <th>Region</th>\n",
       "      <th>Age</th>\n",
       "      <th>Purchased Bike</th>\n",
       "    </tr>\n",
       "  </thead>\n",
       "  <tbody>\n",
       "    <tr>\n",
       "      <th>count</th>\n",
       "      <td>1000.000000</td>\n",
       "      <td>993</td>\n",
       "      <td>989</td>\n",
       "      <td>994.000000</td>\n",
       "      <td>992.000000</td>\n",
       "      <td>1000</td>\n",
       "      <td>1000</td>\n",
       "      <td>996</td>\n",
       "      <td>991.000000</td>\n",
       "      <td>1000</td>\n",
       "      <td>1000</td>\n",
       "      <td>993.000000</td>\n",
       "      <td>1000</td>\n",
       "    </tr>\n",
       "    <tr>\n",
       "      <th>unique</th>\n",
       "      <td>NaN</td>\n",
       "      <td>2</td>\n",
       "      <td>2</td>\n",
       "      <td>NaN</td>\n",
       "      <td>NaN</td>\n",
       "      <td>5</td>\n",
       "      <td>5</td>\n",
       "      <td>2</td>\n",
       "      <td>NaN</td>\n",
       "      <td>5</td>\n",
       "      <td>3</td>\n",
       "      <td>NaN</td>\n",
       "      <td>2</td>\n",
       "    </tr>\n",
       "    <tr>\n",
       "      <th>top</th>\n",
       "      <td>NaN</td>\n",
       "      <td>Married</td>\n",
       "      <td>Male</td>\n",
       "      <td>NaN</td>\n",
       "      <td>NaN</td>\n",
       "      <td>Bachelors</td>\n",
       "      <td>Professional</td>\n",
       "      <td>Yes</td>\n",
       "      <td>NaN</td>\n",
       "      <td>0-1 Miles</td>\n",
       "      <td>North America</td>\n",
       "      <td>NaN</td>\n",
       "      <td>No</td>\n",
       "    </tr>\n",
       "    <tr>\n",
       "      <th>freq</th>\n",
       "      <td>NaN</td>\n",
       "      <td>535</td>\n",
       "      <td>500</td>\n",
       "      <td>NaN</td>\n",
       "      <td>NaN</td>\n",
       "      <td>306</td>\n",
       "      <td>276</td>\n",
       "      <td>682</td>\n",
       "      <td>NaN</td>\n",
       "      <td>366</td>\n",
       "      <td>508</td>\n",
       "      <td>NaN</td>\n",
       "      <td>519</td>\n",
       "    </tr>\n",
       "    <tr>\n",
       "      <th>mean</th>\n",
       "      <td>19965.992000</td>\n",
       "      <td>NaN</td>\n",
       "      <td>NaN</td>\n",
       "      <td>56267.605634</td>\n",
       "      <td>1.910282</td>\n",
       "      <td>NaN</td>\n",
       "      <td>NaN</td>\n",
       "      <td>NaN</td>\n",
       "      <td>1.455096</td>\n",
       "      <td>NaN</td>\n",
       "      <td>NaN</td>\n",
       "      <td>44.139980</td>\n",
       "      <td>NaN</td>\n",
       "    </tr>\n",
       "    <tr>\n",
       "      <th>std</th>\n",
       "      <td>5347.333948</td>\n",
       "      <td>NaN</td>\n",
       "      <td>NaN</td>\n",
       "      <td>31067.817462</td>\n",
       "      <td>1.626910</td>\n",
       "      <td>NaN</td>\n",
       "      <td>NaN</td>\n",
       "      <td>NaN</td>\n",
       "      <td>1.121755</td>\n",
       "      <td>NaN</td>\n",
       "      <td>NaN</td>\n",
       "      <td>12.338209</td>\n",
       "      <td>NaN</td>\n",
       "    </tr>\n",
       "    <tr>\n",
       "      <th>min</th>\n",
       "      <td>11000.000000</td>\n",
       "      <td>NaN</td>\n",
       "      <td>NaN</td>\n",
       "      <td>10000.000000</td>\n",
       "      <td>0.000000</td>\n",
       "      <td>NaN</td>\n",
       "      <td>NaN</td>\n",
       "      <td>NaN</td>\n",
       "      <td>0.000000</td>\n",
       "      <td>NaN</td>\n",
       "      <td>NaN</td>\n",
       "      <td>-28.000000</td>\n",
       "      <td>NaN</td>\n",
       "    </tr>\n",
       "    <tr>\n",
       "      <th>25%</th>\n",
       "      <td>15290.750000</td>\n",
       "      <td>NaN</td>\n",
       "      <td>NaN</td>\n",
       "      <td>30000.000000</td>\n",
       "      <td>0.000000</td>\n",
       "      <td>NaN</td>\n",
       "      <td>NaN</td>\n",
       "      <td>NaN</td>\n",
       "      <td>1.000000</td>\n",
       "      <td>NaN</td>\n",
       "      <td>NaN</td>\n",
       "      <td>35.000000</td>\n",
       "      <td>NaN</td>\n",
       "    </tr>\n",
       "    <tr>\n",
       "      <th>50%</th>\n",
       "      <td>19744.000000</td>\n",
       "      <td>NaN</td>\n",
       "      <td>NaN</td>\n",
       "      <td>60000.000000</td>\n",
       "      <td>2.000000</td>\n",
       "      <td>NaN</td>\n",
       "      <td>NaN</td>\n",
       "      <td>NaN</td>\n",
       "      <td>1.000000</td>\n",
       "      <td>NaN</td>\n",
       "      <td>NaN</td>\n",
       "      <td>43.000000</td>\n",
       "      <td>NaN</td>\n",
       "    </tr>\n",
       "    <tr>\n",
       "      <th>75%</th>\n",
       "      <td>24470.750000</td>\n",
       "      <td>NaN</td>\n",
       "      <td>NaN</td>\n",
       "      <td>70000.000000</td>\n",
       "      <td>3.000000</td>\n",
       "      <td>NaN</td>\n",
       "      <td>NaN</td>\n",
       "      <td>NaN</td>\n",
       "      <td>2.000000</td>\n",
       "      <td>NaN</td>\n",
       "      <td>NaN</td>\n",
       "      <td>52.000000</td>\n",
       "      <td>NaN</td>\n",
       "    </tr>\n",
       "    <tr>\n",
       "      <th>max</th>\n",
       "      <td>29447.000000</td>\n",
       "      <td>NaN</td>\n",
       "      <td>NaN</td>\n",
       "      <td>170000.000000</td>\n",
       "      <td>5.000000</td>\n",
       "      <td>NaN</td>\n",
       "      <td>NaN</td>\n",
       "      <td>NaN</td>\n",
       "      <td>4.000000</td>\n",
       "      <td>NaN</td>\n",
       "      <td>NaN</td>\n",
       "      <td>160.000000</td>\n",
       "      <td>NaN</td>\n",
       "    </tr>\n",
       "  </tbody>\n",
       "</table>\n",
       "</div>"
      ],
      "text/plain": [
       "                  ID Marital Status Gender         Income    Children  \\\n",
       "count    1000.000000            993    989     994.000000  992.000000   \n",
       "unique           NaN              2      2            NaN         NaN   \n",
       "top              NaN        Married   Male            NaN         NaN   \n",
       "freq             NaN            535    500            NaN         NaN   \n",
       "mean    19965.992000            NaN    NaN   56267.605634    1.910282   \n",
       "std      5347.333948            NaN    NaN   31067.817462    1.626910   \n",
       "min     11000.000000            NaN    NaN   10000.000000    0.000000   \n",
       "25%     15290.750000            NaN    NaN   30000.000000    0.000000   \n",
       "50%     19744.000000            NaN    NaN   60000.000000    2.000000   \n",
       "75%     24470.750000            NaN    NaN   70000.000000    3.000000   \n",
       "max     29447.000000            NaN    NaN  170000.000000    5.000000   \n",
       "\n",
       "        Education    Occupation Home Owner        Cars Commute Distance  \\\n",
       "count        1000          1000        996  991.000000             1000   \n",
       "unique          5             5          2         NaN                5   \n",
       "top     Bachelors  Professional        Yes         NaN        0-1 Miles   \n",
       "freq          306           276        682         NaN              366   \n",
       "mean          NaN           NaN        NaN    1.455096              NaN   \n",
       "std           NaN           NaN        NaN    1.121755              NaN   \n",
       "min           NaN           NaN        NaN    0.000000              NaN   \n",
       "25%           NaN           NaN        NaN    1.000000              NaN   \n",
       "50%           NaN           NaN        NaN    1.000000              NaN   \n",
       "75%           NaN           NaN        NaN    2.000000              NaN   \n",
       "max           NaN           NaN        NaN    4.000000              NaN   \n",
       "\n",
       "               Region         Age Purchased Bike  \n",
       "count            1000  993.000000           1000  \n",
       "unique              3         NaN              2  \n",
       "top     North America         NaN             No  \n",
       "freq              508         NaN            519  \n",
       "mean              NaN   44.139980            NaN  \n",
       "std               NaN   12.338209            NaN  \n",
       "min               NaN  -28.000000            NaN  \n",
       "25%               NaN   35.000000            NaN  \n",
       "50%               NaN   43.000000            NaN  \n",
       "75%               NaN   52.000000            NaN  \n",
       "max               NaN  160.000000            NaN  "
      ]
     },
     "execution_count": 73,
     "metadata": {},
     "output_type": "execute_result"
    }
   ],
   "source": [
    "bike_buyers.describe(include='all')"
   ]
  },
  {
   "cell_type": "code",
   "execution_count": 74,
   "metadata": {
    "colab": {
     "base_uri": "https://localhost:8080/",
     "height": 492
    },
    "executionInfo": {
     "elapsed": 3,
     "status": "ok",
     "timestamp": 1745458442824,
     "user": {
      "displayName": "Luis Di Nicco",
      "userId": "09330020554994464081"
     },
     "user_tz": 180
    },
    "id": "vL3MIz--LGo6",
    "outputId": "38bc9e4b-7187-4baa-de93-f32c92c10fd4"
   },
   "outputs": [
    {
     "data": {
      "text/plain": [
       "ID                    int64\n",
       "Marital Status       object\n",
       "Gender               object\n",
       "Income              float64\n",
       "Children            float64\n",
       "Education            object\n",
       "Occupation           object\n",
       "Home Owner           object\n",
       "Cars                float64\n",
       "Commute Distance     object\n",
       "Region               object\n",
       "Age                 float64\n",
       "Purchased Bike       object\n",
       "dtype: object"
      ]
     },
     "execution_count": 74,
     "metadata": {},
     "output_type": "execute_result"
    }
   ],
   "source": [
    "bike_buyers.dtypes"
   ]
  },
  {
   "cell_type": "code",
   "execution_count": 75,
   "metadata": {
    "colab": {
     "base_uri": "https://localhost:8080/",
     "height": 206
    },
    "executionInfo": {
     "elapsed": 35,
     "status": "ok",
     "timestamp": 1745458442875,
     "user": {
      "displayName": "Luis Di Nicco",
      "userId": "09330020554994464081"
     },
     "user_tz": 180
    },
    "id": "SrSL8UvUIyBN",
    "outputId": "f26084c9-80e3-4741-e34e-7b0fc774b459"
   },
   "outputs": [
    {
     "data": {
      "text/html": [
       "<div>\n",
       "<style scoped>\n",
       "    .dataframe tbody tr th:only-of-type {\n",
       "        vertical-align: middle;\n",
       "    }\n",
       "\n",
       "    .dataframe tbody tr th {\n",
       "        vertical-align: top;\n",
       "    }\n",
       "\n",
       "    .dataframe thead th {\n",
       "        text-align: right;\n",
       "    }\n",
       "</style>\n",
       "<table border=\"1\" class=\"dataframe\">\n",
       "  <thead>\n",
       "    <tr style=\"text-align: right;\">\n",
       "      <th></th>\n",
       "      <th>ID</th>\n",
       "      <th>Marital Status</th>\n",
       "      <th>Gender</th>\n",
       "      <th>Income</th>\n",
       "      <th>Children</th>\n",
       "      <th>Education</th>\n",
       "      <th>Occupation</th>\n",
       "      <th>Home Owner</th>\n",
       "      <th>Cars</th>\n",
       "      <th>Commute Distance</th>\n",
       "      <th>Region</th>\n",
       "      <th>Age</th>\n",
       "      <th>Purchased Bike</th>\n",
       "    </tr>\n",
       "  </thead>\n",
       "  <tbody>\n",
       "    <tr>\n",
       "      <th>0</th>\n",
       "      <td>12496</td>\n",
       "      <td>Married</td>\n",
       "      <td>Female</td>\n",
       "      <td>40000.0</td>\n",
       "      <td>1.0</td>\n",
       "      <td>Bachelors</td>\n",
       "      <td>Skilled Manual</td>\n",
       "      <td>Yes</td>\n",
       "      <td>0.0</td>\n",
       "      <td>0-1 Miles</td>\n",
       "      <td>Europe</td>\n",
       "      <td>42.0</td>\n",
       "      <td>No</td>\n",
       "    </tr>\n",
       "    <tr>\n",
       "      <th>1</th>\n",
       "      <td>24107</td>\n",
       "      <td>Married</td>\n",
       "      <td>Male</td>\n",
       "      <td>30000.0</td>\n",
       "      <td>3.0</td>\n",
       "      <td>Partial College</td>\n",
       "      <td>Clerical</td>\n",
       "      <td>Yes</td>\n",
       "      <td>1.0</td>\n",
       "      <td>0-1 Miles</td>\n",
       "      <td>Europe</td>\n",
       "      <td>43.0</td>\n",
       "      <td>No</td>\n",
       "    </tr>\n",
       "    <tr>\n",
       "      <th>2</th>\n",
       "      <td>14177</td>\n",
       "      <td>Married</td>\n",
       "      <td>Male</td>\n",
       "      <td>80000.0</td>\n",
       "      <td>5.0</td>\n",
       "      <td>Partial College</td>\n",
       "      <td>Professional</td>\n",
       "      <td>No</td>\n",
       "      <td>2.0</td>\n",
       "      <td>2-5 Miles</td>\n",
       "      <td>Europe</td>\n",
       "      <td>60.0</td>\n",
       "      <td>No</td>\n",
       "    </tr>\n",
       "    <tr>\n",
       "      <th>3</th>\n",
       "      <td>24381</td>\n",
       "      <td>Single</td>\n",
       "      <td>NaN</td>\n",
       "      <td>70000.0</td>\n",
       "      <td>0.0</td>\n",
       "      <td>Bachelors</td>\n",
       "      <td>Professional</td>\n",
       "      <td>Yes</td>\n",
       "      <td>1.0</td>\n",
       "      <td>5-10 Miles</td>\n",
       "      <td>Pacific</td>\n",
       "      <td>41.0</td>\n",
       "      <td>Yes</td>\n",
       "    </tr>\n",
       "    <tr>\n",
       "      <th>4</th>\n",
       "      <td>25597</td>\n",
       "      <td>Single</td>\n",
       "      <td>Male</td>\n",
       "      <td>30000.0</td>\n",
       "      <td>0.0</td>\n",
       "      <td>Bachelors</td>\n",
       "      <td>Clerical</td>\n",
       "      <td>No</td>\n",
       "      <td>0.0</td>\n",
       "      <td>0-1 Miles</td>\n",
       "      <td>Europe</td>\n",
       "      <td>36.0</td>\n",
       "      <td>Yes</td>\n",
       "    </tr>\n",
       "  </tbody>\n",
       "</table>\n",
       "</div>"
      ],
      "text/plain": [
       "      ID Marital Status  Gender   Income  Children        Education  \\\n",
       "0  12496        Married  Female  40000.0       1.0        Bachelors   \n",
       "1  24107        Married    Male  30000.0       3.0  Partial College   \n",
       "2  14177        Married    Male  80000.0       5.0  Partial College   \n",
       "3  24381         Single     NaN  70000.0       0.0        Bachelors   \n",
       "4  25597         Single    Male  30000.0       0.0        Bachelors   \n",
       "\n",
       "       Occupation Home Owner  Cars Commute Distance   Region   Age  \\\n",
       "0  Skilled Manual        Yes   0.0        0-1 Miles   Europe  42.0   \n",
       "1        Clerical        Yes   1.0        0-1 Miles   Europe  43.0   \n",
       "2    Professional         No   2.0        2-5 Miles   Europe  60.0   \n",
       "3    Professional        Yes   1.0       5-10 Miles  Pacific  41.0   \n",
       "4        Clerical         No   0.0        0-1 Miles   Europe  36.0   \n",
       "\n",
       "  Purchased Bike  \n",
       "0             No  \n",
       "1             No  \n",
       "2             No  \n",
       "3            Yes  \n",
       "4            Yes  "
      ]
     },
     "execution_count": 75,
     "metadata": {},
     "output_type": "execute_result"
    }
   ],
   "source": [
    "bike_buyers.head()"
   ]
  },
  {
   "cell_type": "markdown",
   "metadata": {
    "id": "y-43zbQ1H6g-"
   },
   "source": [
    "# Resolucion Punto 1\n",
    "¿Cuáles de las variables contienen valores nulos?"
   ]
  },
  {
   "cell_type": "markdown",
   "metadata": {},
   "source": [
    "Calcular porcentaje de valores nulos por columna"
   ]
  },
  {
   "cell_type": "code",
   "execution_count": 76,
   "metadata": {},
   "outputs": [],
   "source": [
    "null_percentages = bike_buyers.isna().sum() / bike_buyers.shape[0] * 100"
   ]
  },
  {
   "cell_type": "markdown",
   "metadata": {},
   "source": [
    "Filtrar solo columnas con porcentaje mayor a 0"
   ]
  },
  {
   "cell_type": "code",
   "execution_count": 77,
   "metadata": {},
   "outputs": [],
   "source": [
    "columns_with_nulls = null_percentages[null_percentages > 0]"
   ]
  },
  {
   "cell_type": "markdown",
   "metadata": {},
   "source": [
    "Mostrar el resultado"
   ]
  },
  {
   "cell_type": "code",
   "execution_count": 78,
   "metadata": {
    "colab": {
     "base_uri": "https://localhost:8080/"
    },
    "executionInfo": {
     "elapsed": 21,
     "status": "ok",
     "timestamp": 1745458442898,
     "user": {
      "displayName": "Luis Di Nicco",
      "userId": "09330020554994464081"
     },
     "user_tz": 180
    },
    "id": "zmOc1IdSH6m-",
    "outputId": "f62e2284-b733-4a62-b7d8-a33833d5fb59"
   },
   "outputs": [
    {
     "name": "stdout",
     "output_type": "stream",
     "text": [
      "Columnas con valores nulos (%):\n",
      "Marital Status    0.7\n",
      "Gender            1.1\n",
      "Income            0.6\n",
      "Children          0.8\n",
      "Home Owner        0.4\n",
      "Cars              0.9\n",
      "Age               0.7\n",
      "dtype: float64\n"
     ]
    }
   ],
   "source": [
    "print(\"Columnas con valores nulos (%):\")\n",
    "print(columns_with_nulls)"
   ]
  },
  {
   "cell_type": "markdown",
   "metadata": {
    "id": "RB0v_FmfMYL6"
   },
   "source": [
    "# Resolucion Punto 2\n",
    "¿Está Balanceada la variable target 'Purchased Bike'?"
   ]
  },
  {
   "cell_type": "code",
   "execution_count": 79,
   "metadata": {
    "colab": {
     "base_uri": "https://localhost:8080/",
     "height": 473
    },
    "executionInfo": {
     "elapsed": 108,
     "status": "ok",
     "timestamp": 1745458443008,
     "user": {
      "displayName": "Luis Di Nicco",
      "userId": "09330020554994464081"
     },
     "user_tz": 180
    },
    "id": "kLf47XYVMqox",
    "outputId": "d1c2171e-7eb9-4d56-ff05-c8a18c1b6738"
   },
   "outputs": [
    {
     "data": {
      "image/png": "[encoded data removed]",
      "text/plain": [
       "<Figure size 640x480 with 1 Axes>"
      ]
     },
     "metadata": {},
     "output_type": "display_data"
    }
   ],
   "source": [
    "cateries = bike_buyers[\"Purchased Bike\"].value_counts()\n",
    "plt.bar(cateries.index, cateries.values, color=['red', 'green'])\n",
    "plt.xlabel('Categoría')\n",
    "plt.ylabel('Cantidad')\n",
    "plt.title('Frecuencia de Categorías')\n",
    "plt.show()"
   ]
  },
  {
   "cell_type": "code",
   "execution_count": 80,
   "metadata": {
    "colab": {
     "base_uri": "https://localhost:8080/",
     "height": 178
    },
    "executionInfo": {
     "elapsed": 6,
     "status": "ok",
     "timestamp": 1745458443009,
     "user": {
      "displayName": "Luis Di Nicco",
      "userId": "09330020554994464081"
     },
     "user_tz": 180
    },
    "id": "JKxcwPD6OEUf",
    "outputId": "e4a69e1f-88ab-486e-c666-73c4ed3b404e"
   },
   "outputs": [
    {
     "data": {
      "text/plain": [
       "Purchased Bike\n",
       "No     519\n",
       "Yes    481\n",
       "Name: count, dtype: int64"
      ]
     },
     "execution_count": 80,
     "metadata": {},
     "output_type": "execute_result"
    }
   ],
   "source": [
    "bike_buyers[\"Purchased Bike\"].value_counts()"
   ]
  },
  {
   "cell_type": "markdown",
   "metadata": {
    "id": "LOAra8ALOgKY"
   },
   "source": [
    "# Resolución Punto 3\n",
    "Imputar los valores nulos de Gender con el valor 'X'"
   ]
  },
  {
   "cell_type": "code",
   "execution_count": 81,
   "metadata": {
    "executionInfo": {
     "elapsed": 4,
     "status": "ok",
     "timestamp": 1745458443010,
     "user": {
      "displayName": "Luis Di Nicco",
      "userId": "09330020554994464081"
     },
     "user_tz": 180
    },
    "id": "tFc1t0gwOuhD"
   },
   "outputs": [],
   "source": [
    "bike_buyers[\"Gender\"] = bike_buyers[\"Gender\"].fillna(\"X\")"
   ]
  },
  {
   "cell_type": "markdown",
   "metadata": {},
   "source": [
    "Calcular porcentaje de valores nulos por columna"
   ]
  },
  {
   "cell_type": "code",
   "execution_count": 82,
   "metadata": {},
   "outputs": [],
   "source": [
    "null_percentages = bike_buyers.isna().sum() / bike_buyers.shape[0] * 100"
   ]
  },
  {
   "cell_type": "markdown",
   "metadata": {},
   "source": [
    "Filtrar solo la columna 'Gender'"
   ]
  },
  {
   "cell_type": "code",
   "execution_count": 83,
   "metadata": {},
   "outputs": [],
   "source": [
    "gender_null_percentage = null_percentages['Gender']"
   ]
  },
  {
   "cell_type": "markdown",
   "metadata": {},
   "source": [
    "Mostrar el resultado"
   ]
  },
  {
   "cell_type": "code",
   "execution_count": 84,
   "metadata": {
    "colab": {
     "base_uri": "https://localhost:8080/"
    },
    "executionInfo": {
     "elapsed": 29,
     "status": "ok",
     "timestamp": 1745458443051,
     "user": {
      "displayName": "Luis Di Nicco",
      "userId": "09330020554994464081"
     },
     "user_tz": 180
    },
    "id": "zJsLBUMKPV0Y",
    "outputId": "46522a75-312f-4092-d265-cd9723b352b7"
   },
   "outputs": [
    {
     "name": "stdout",
     "output_type": "stream",
     "text": [
      "Porcentaje de valores nulos en 'Gender':\n",
      "0.0\n"
     ]
    }
   ],
   "source": [
    "print(\"Porcentaje de valores nulos en 'Gender':\")\n",
    "print(gender_null_percentage)"
   ]
  },
  {
   "cell_type": "markdown",
   "metadata": {
    "id": "qbiDnMG7Ou1r"
   },
   "source": [
    "# Resolución Punto 4\n",
    "Imputar los valores nulos y outliers de Age con la media."
   ]
  },
  {
   "cell_type": "markdown",
   "metadata": {
    "id": "dz-gnDPJVm_q"
   },
   "source": [
    "## Imputacion de Valores Nulos"
   ]
  },
  {
   "cell_type": "markdown",
   "metadata": {},
   "source": [
    "1. Calcular la media (ignorando nulos)"
   ]
  },
  {
   "cell_type": "code",
   "execution_count": 85,
   "metadata": {},
   "outputs": [],
   "source": [
    "mean_age = bike_buyers['Age'].mean()"
   ]
  },
  {
   "cell_type": "markdown",
   "metadata": {},
   "source": [
    "2. Imputar los valores nulos con la media"
   ]
  },
  {
   "cell_type": "code",
   "execution_count": 86,
   "metadata": {
    "executionInfo": {
     "elapsed": 7,
     "status": "ok",
     "timestamp": 1745458443052,
     "user": {
      "displayName": "Luis Di Nicco",
      "userId": "09330020554994464081"
     },
     "user_tz": 180
    },
    "id": "x5DfkHTFOzrC"
   },
   "outputs": [],
   "source": [
    "bike_buyers['Age'] = bike_buyers['Age'].fillna(mean_age)"
   ]
  },
  {
   "cell_type": "markdown",
   "metadata": {},
   "source": [
    "Calcular porcentaje de valores nulos por columna"
   ]
  },
  {
   "cell_type": "code",
   "execution_count": 87,
   "metadata": {},
   "outputs": [],
   "source": [
    "null_percentages = bike_buyers.isna().sum() / bike_buyers.shape[0] * 100"
   ]
  },
  {
   "cell_type": "markdown",
   "metadata": {},
   "source": [
    "Filtrar solo la columna 'Gender'"
   ]
  },
  {
   "cell_type": "code",
   "execution_count": 88,
   "metadata": {},
   "outputs": [],
   "source": [
    "gender_null_percentage = null_percentages['Age']"
   ]
  },
  {
   "cell_type": "markdown",
   "metadata": {},
   "source": [
    "Mostrar el resultado"
   ]
  },
  {
   "cell_type": "code",
   "execution_count": 89,
   "metadata": {
    "colab": {
     "base_uri": "https://localhost:8080/"
    },
    "executionInfo": {
     "elapsed": 6,
     "status": "ok",
     "timestamp": 1745458443053,
     "user": {
      "displayName": "Luis Di Nicco",
      "userId": "09330020554994464081"
     },
     "user_tz": 180
    },
    "id": "02-0WESwQo59",
    "outputId": "dda829fe-04dd-46f7-f146-a9ebbb35c91a"
   },
   "outputs": [
    {
     "name": "stdout",
     "output_type": "stream",
     "text": [
      "Porcentaje de valores nulos en 'Age':\n",
      "0.0\n"
     ]
    }
   ],
   "source": [
    "print(\"Porcentaje de valores nulos en 'Age':\")\n",
    "print(gender_null_percentage)"
   ]
  },
  {
   "cell_type": "markdown",
   "metadata": {
    "id": "I9_Iuo6QVrKQ"
   },
   "source": [
    "## Imputacion de valores outliers"
   ]
  },
  {
   "cell_type": "markdown",
   "metadata": {
    "id": "d0vCPzCVW5I4"
   },
   "source": [
    "### Antes de la imputacion"
   ]
  },
  {
   "cell_type": "markdown",
   "metadata": {},
   "source": [
    "Semilla para reproducibilidad del jitter"
   ]
  },
  {
   "cell_type": "code",
   "execution_count": 90,
   "metadata": {},
   "outputs": [],
   "source": [
    "np.random.seed(42)"
   ]
  },
  {
   "cell_type": "markdown",
   "metadata": {},
   "source": [
    "Crear el gráfico"
   ]
  },
  {
   "cell_type": "code",
   "execution_count": 91,
   "metadata": {},
   "outputs": [
    {
     "data": {
      "text/plain": [
       "<Axes: xlabel='Age'>"
      ]
     },
     "execution_count": 91,
     "metadata": {},
     "output_type": "execute_result"
    },
    {
     "data": {
      "image/png": "[encoded data removed]",
      "text/plain": [
       "<Figure size 1000x400 with 1 Axes>"
      ]
     },
     "metadata": {},
     "output_type": "display_data"
    }
   ],
   "source": [
    "plt.figure(figsize=(10, 4))\n",
    "sns.boxplot(x=bike_buyers[\"Age\"], width=0.4, showfliers=True, orient=\"x\")\n",
    "sns.stripplot(x=bike_buyers[\"Age\"], color='red', size=5, alpha=0.6, jitter=True)"
   ]
  },
  {
   "cell_type": "markdown",
   "metadata": {},
   "source": [
    "Personalizar"
   ]
  },
  {
   "cell_type": "code",
   "execution_count": 92,
   "metadata": {
    "colab": {
     "base_uri": "https://localhost:8080/",
     "height": 410
    },
    "executionInfo": {
     "elapsed": 153,
     "status": "ok",
     "timestamp": 1745458443203,
     "user": {
      "displayName": "Luis Di Nicco",
      "userId": "09330020554994464081"
     },
     "user_tz": 180
    },
    "id": "4Mcgme2DVaXC",
    "outputId": "49290c6c-8e9f-49eb-9932-bdb515fba06e"
   },
   "outputs": [
    {
     "data": {
      "image/png": "[encoded data removed]",
      "text/plain": [
       "<Figure size 640x480 with 1 Axes>"
      ]
     },
     "metadata": {},
     "output_type": "display_data"
    }
   ],
   "source": [
    "plt.title(\"Boxplot con Puntos - Edad de Compradores Potenciales de Bicicletas\")\n",
    "plt.xlabel(\"Edad\")\n",
    "plt.grid(True)\n",
    "plt.show()"
   ]
  },
  {
   "cell_type": "markdown",
   "metadata": {
    "id": "jxz9VzoyXl8P"
   },
   "source": [
    "### Imputacion mediante la formula"
   ]
  },
  {
   "cell_type": "markdown",
   "metadata": {},
   "source": [
    "3. Calcular límites para detectar outliers"
   ]
  },
  {
   "cell_type": "code",
   "execution_count": 93,
   "metadata": {
    "executionInfo": {
     "elapsed": 31,
     "status": "ok",
     "timestamp": 1745458443222,
     "user": {
      "displayName": "Luis Di Nicco",
      "userId": "09330020554994464081"
     },
     "user_tz": 180
    },
    "id": "4HYTSN7_S0DC"
   },
   "outputs": [],
   "source": [
    "Q1 = bike_buyers['Age'].quantile(0.25)\n",
    "Q3 = bike_buyers['Age'].quantile(0.75)\n",
    "IQR = Q3 - Q1\n",
    "lower_bound = Q1 - 1.5 * IQR\n",
    "upper_bound = Q3 + 1.5 * IQR"
   ]
  },
  {
   "cell_type": "markdown",
   "metadata": {},
   "source": [
    "4. Reemplazar los outliers con la media"
   ]
  },
  {
   "cell_type": "code",
   "execution_count": 94,
   "metadata": {},
   "outputs": [],
   "source": [
    "bike_buyers['Age'] = np.where(\n",
    "    (bike_buyers['Age'] < lower_bound) | (bike_buyers['Age'] > upper_bound),\n",
    "    mean_age,\n",
    "    bike_buyers['Age']\n",
    ")"
   ]
  },
  {
   "cell_type": "markdown",
   "metadata": {
    "id": "-G6X8aEHXpk-"
   },
   "source": [
    "### Luego de la imputacion"
   ]
  },
  {
   "cell_type": "markdown",
   "metadata": {},
   "source": [
    "Semilla para reproducibilidad del jitter"
   ]
  },
  {
   "cell_type": "code",
   "execution_count": 95,
   "metadata": {},
   "outputs": [],
   "source": [
    "np.random.seed(42)"
   ]
  },
  {
   "cell_type": "markdown",
   "metadata": {},
   "source": [
    "Crear el gráfico"
   ]
  },
  {
   "cell_type": "code",
   "execution_count": 96,
   "metadata": {},
   "outputs": [
    {
     "data": {
      "text/plain": [
       "<Axes: xlabel='Age'>"
      ]
     },
     "execution_count": 96,
     "metadata": {},
     "output_type": "execute_result"
    },
    {
     "data": {
      "image/png": "[encoded data removed]",
      "text/plain": [
       "<Figure size 1000x400 with 1 Axes>"
      ]
     },
     "metadata": {},
     "output_type": "display_data"
    }
   ],
   "source": [
    "plt.figure(figsize=(10, 4))\n",
    "sns.boxplot(x=bike_buyers[\"Age\"], width=0.4, showfliers=True, orient=\"x\")\n",
    "sns.stripplot(x=bike_buyers[\"Age\"], color='red', size=5, alpha=0.6, jitter=True)"
   ]
  },
  {
   "cell_type": "markdown",
   "metadata": {},
   "source": [
    "Personalizar"
   ]
  },
  {
   "cell_type": "code",
   "execution_count": 97,
   "metadata": {
    "colab": {
     "base_uri": "https://localhost:8080/",
     "height": 410
    },
    "executionInfo": {
     "elapsed": 159,
     "status": "ok",
     "timestamp": 1745458443378,
     "user": {
      "displayName": "Luis Di Nicco",
      "userId": "09330020554994464081"
     },
     "user_tz": 180
    },
    "id": "XbQFfzJUTLnS",
    "outputId": "0560a6f7-d178-433e-a264-76d3009300a6"
   },
   "outputs": [
    {
     "data": {
      "image/png": "[encoded data removed]",
      "text/plain": [
       "<Figure size 640x480 with 1 Axes>"
      ]
     },
     "metadata": {},
     "output_type": "display_data"
    }
   ],
   "source": [
    "plt.title(\"Boxplot con Puntos - Edad de Compradores Potenciales de Bicicletas\")\n",
    "plt.xlabel(\"Edad\")\n",
    "plt.grid(True)\n",
    "plt.show()"
   ]
  },
  {
   "cell_type": "markdown",
   "metadata": {
    "id": "mpxhtx0DSspN"
   },
   "source": [
    "# Resolucion Punto 5\n",
    "Eliminar los registros con valor nulo en Cars."
   ]
  },
  {
   "cell_type": "code",
   "execution_count": 98,
   "metadata": {
    "executionInfo": {
     "elapsed": 8,
     "status": "ok",
     "timestamp": 1745458443381,
     "user": {
      "displayName": "Luis Di Nicco",
      "userId": "09330020554994464081"
     },
     "user_tz": 180
    },
    "id": "7VMhdBAmQgGW"
   },
   "outputs": [],
   "source": [
    "bike_buyers = bike_buyers.dropna(subset=['Cars'])"
   ]
  },
  {
   "cell_type": "markdown",
   "metadata": {},
   "source": [
    "Calcular porcentaje de valores nulos por columna"
   ]
  },
  {
   "cell_type": "code",
   "execution_count": 99,
   "metadata": {},
   "outputs": [],
   "source": [
    "null_percentages = bike_buyers.isna().sum() / bike_buyers.shape[0] * 100"
   ]
  },
  {
   "cell_type": "markdown",
   "metadata": {},
   "source": [
    "Filtrar solo la columna 'Gender'"
   ]
  },
  {
   "cell_type": "code",
   "execution_count": 100,
   "metadata": {},
   "outputs": [],
   "source": [
    "gender_null_percentage = null_percentages['Cars']"
   ]
  },
  {
   "cell_type": "markdown",
   "metadata": {},
   "source": [
    "Mostrar el resultado"
   ]
  },
  {
   "cell_type": "code",
   "execution_count": 101,
   "metadata": {
    "colab": {
     "base_uri": "https://localhost:8080/"
    },
    "executionInfo": {
     "elapsed": 13,
     "status": "ok",
     "timestamp": 1745458443393,
     "user": {
      "displayName": "Luis Di Nicco",
      "userId": "09330020554994464081"
     },
     "user_tz": 180
    },
    "id": "5L75aqM-XVC3",
    "outputId": "cf53cc74-7985-4eb5-fc4a-2a404db5e6e5"
   },
   "outputs": [
    {
     "name": "stdout",
     "output_type": "stream",
     "text": [
      "Porcentaje de valores nulos en 'Cars':\n",
      "0.0\n"
     ]
    }
   ],
   "source": [
    "print(\"Porcentaje de valores nulos en 'Cars':\")\n",
    "print(gender_null_percentage)"
   ]
  },
  {
   "cell_type": "markdown",
   "metadata": {
    "id": "U_ws487fXaym"
   },
   "source": [
    "# Resolucion Punto 6\n",
    "Generar columnas dummy para las variables Education y Occupation."
   ]
  },
  {
   "cell_type": "markdown",
   "metadata": {},
   "source": [
    "Calcular porcentaje de valores nulos por columna"
   ]
  },
  {
   "cell_type": "code",
   "execution_count": 102,
   "metadata": {},
   "outputs": [],
   "source": [
    "null_percentages = bike_buyers.isna().sum() / bike_buyers.shape[0] * 100"
   ]
  },
  {
   "cell_type": "markdown",
   "metadata": {},
   "source": [
    "Filtrar solo columnas con porcentaje mayor a 0"
   ]
  },
  {
   "cell_type": "code",
   "execution_count": 103,
   "metadata": {},
   "outputs": [],
   "source": [
    "columns_with_nulls = null_percentages[null_percentages > 0]"
   ]
  },
  {
   "cell_type": "markdown",
   "metadata": {},
   "source": [
    "Mostrar el resultado"
   ]
  },
  {
   "cell_type": "code",
   "execution_count": 104,
   "metadata": {
    "colab": {
     "base_uri": "https://localhost:8080/"
    },
    "executionInfo": {
     "elapsed": 7,
     "status": "ok",
     "timestamp": 1745458443401,
     "user": {
      "displayName": "Luis Di Nicco",
      "userId": "09330020554994464081"
     },
     "user_tz": 180
    },
    "id": "8zgZ1yOdYR9W",
    "outputId": "4f1b8254-edeb-47ac-8105-521e31ec3160"
   },
   "outputs": [
    {
     "name": "stdout",
     "output_type": "stream",
     "text": [
      "Columnas con valores nulos (%):\n",
      "Marital Status    0.706357\n",
      "Income            0.605449\n",
      "Children          0.807265\n",
      "Home Owner        0.403633\n",
      "dtype: float64\n"
     ]
    }
   ],
   "source": [
    "print(\"Columnas con valores nulos (%):\")\n",
    "print(columns_with_nulls)"
   ]
  },
  {
   "cell_type": "markdown",
   "metadata": {},
   "source": [
    "Crear dummies para las columnas 'Education' y 'Occupation'"
   ]
  },
  {
   "cell_type": "code",
   "execution_count": 105,
   "metadata": {
    "executionInfo": {
     "elapsed": 1,
     "status": "ok",
     "timestamp": 1745458443403,
     "user": {
      "displayName": "Luis Di Nicco",
      "userId": "09330020554994464081"
     },
     "user_tz": 180
    },
    "id": "wIT5iLsfX4Yv"
   },
   "outputs": [],
   "source": [
    "bike_buyers = pd.get_dummies(bike_buyers, columns=['Education', 'Occupation'], drop_first=True)"
   ]
  },
  {
   "cell_type": "code",
   "execution_count": 106,
   "metadata": {
    "colab": {
     "base_uri": "https://localhost:8080/",
     "height": 261
    },
    "executionInfo": {
     "elapsed": 29,
     "status": "ok",
     "timestamp": 1745458443449,
     "user": {
      "displayName": "Luis Di Nicco",
      "userId": "09330020554994464081"
     },
     "user_tz": 180
    },
    "id": "v7wi6R3PYHnO",
    "outputId": "eaa0e07b-fa1a-43fb-fc89-8471c7c4bd83"
   },
   "outputs": [
    {
     "data": {
      "text/html": [
       "<div>\n",
       "<style scoped>\n",
       "    .dataframe tbody tr th:only-of-type {\n",
       "        vertical-align: middle;\n",
       "    }\n",
       "\n",
       "    .dataframe tbody tr th {\n",
       "        vertical-align: top;\n",
       "    }\n",
       "\n",
       "    .dataframe thead th {\n",
       "        text-align: right;\n",
       "    }\n",
       "</style>\n",
       "<table border=\"1\" class=\"dataframe\">\n",
       "  <thead>\n",
       "    <tr style=\"text-align: right;\">\n",
       "      <th></th>\n",
       "      <th>ID</th>\n",
       "      <th>Marital Status</th>\n",
       "      <th>Gender</th>\n",
       "      <th>Income</th>\n",
       "      <th>Children</th>\n",
       "      <th>Home Owner</th>\n",
       "      <th>Cars</th>\n",
       "      <th>Commute Distance</th>\n",
       "      <th>Region</th>\n",
       "      <th>Age</th>\n",
       "      <th>Purchased Bike</th>\n",
       "      <th>Education_Graduate Degree</th>\n",
       "      <th>Education_High School</th>\n",
       "      <th>Education_Partial College</th>\n",
       "      <th>Education_Partial High School</th>\n",
       "      <th>Occupation_Management</th>\n",
       "      <th>Occupation_Manual</th>\n",
       "      <th>Occupation_Professional</th>\n",
       "      <th>Occupation_Skilled Manual</th>\n",
       "    </tr>\n",
       "  </thead>\n",
       "  <tbody>\n",
       "    <tr>\n",
       "      <th>0</th>\n",
       "      <td>12496</td>\n",
       "      <td>Married</td>\n",
       "      <td>Female</td>\n",
       "      <td>40000.0</td>\n",
       "      <td>1.0</td>\n",
       "      <td>Yes</td>\n",
       "      <td>0.0</td>\n",
       "      <td>0-1 Miles</td>\n",
       "      <td>Europe</td>\n",
       "      <td>42.0</td>\n",
       "      <td>No</td>\n",
       "      <td>False</td>\n",
       "      <td>False</td>\n",
       "      <td>False</td>\n",
       "      <td>False</td>\n",
       "      <td>False</td>\n",
       "      <td>False</td>\n",
       "      <td>False</td>\n",
       "      <td>True</td>\n",
       "    </tr>\n",
       "    <tr>\n",
       "      <th>1</th>\n",
       "      <td>24107</td>\n",
       "      <td>Married</td>\n",
       "      <td>Male</td>\n",
       "      <td>30000.0</td>\n",
       "      <td>3.0</td>\n",
       "      <td>Yes</td>\n",
       "      <td>1.0</td>\n",
       "      <td>0-1 Miles</td>\n",
       "      <td>Europe</td>\n",
       "      <td>43.0</td>\n",
       "      <td>No</td>\n",
       "      <td>False</td>\n",
       "      <td>False</td>\n",
       "      <td>True</td>\n",
       "      <td>False</td>\n",
       "      <td>False</td>\n",
       "      <td>False</td>\n",
       "      <td>False</td>\n",
       "      <td>False</td>\n",
       "    </tr>\n",
       "    <tr>\n",
       "      <th>2</th>\n",
       "      <td>14177</td>\n",
       "      <td>Married</td>\n",
       "      <td>Male</td>\n",
       "      <td>80000.0</td>\n",
       "      <td>5.0</td>\n",
       "      <td>No</td>\n",
       "      <td>2.0</td>\n",
       "      <td>2-5 Miles</td>\n",
       "      <td>Europe</td>\n",
       "      <td>60.0</td>\n",
       "      <td>No</td>\n",
       "      <td>False</td>\n",
       "      <td>False</td>\n",
       "      <td>True</td>\n",
       "      <td>False</td>\n",
       "      <td>False</td>\n",
       "      <td>False</td>\n",
       "      <td>True</td>\n",
       "      <td>False</td>\n",
       "    </tr>\n",
       "    <tr>\n",
       "      <th>3</th>\n",
       "      <td>24381</td>\n",
       "      <td>Single</td>\n",
       "      <td>X</td>\n",
       "      <td>70000.0</td>\n",
       "      <td>0.0</td>\n",
       "      <td>Yes</td>\n",
       "      <td>1.0</td>\n",
       "      <td>5-10 Miles</td>\n",
       "      <td>Pacific</td>\n",
       "      <td>41.0</td>\n",
       "      <td>Yes</td>\n",
       "      <td>False</td>\n",
       "      <td>False</td>\n",
       "      <td>False</td>\n",
       "      <td>False</td>\n",
       "      <td>False</td>\n",
       "      <td>False</td>\n",
       "      <td>True</td>\n",
       "      <td>False</td>\n",
       "    </tr>\n",
       "    <tr>\n",
       "      <th>4</th>\n",
       "      <td>25597</td>\n",
       "      <td>Single</td>\n",
       "      <td>Male</td>\n",
       "      <td>30000.0</td>\n",
       "      <td>0.0</td>\n",
       "      <td>No</td>\n",
       "      <td>0.0</td>\n",
       "      <td>0-1 Miles</td>\n",
       "      <td>Europe</td>\n",
       "      <td>36.0</td>\n",
       "      <td>Yes</td>\n",
       "      <td>False</td>\n",
       "      <td>False</td>\n",
       "      <td>False</td>\n",
       "      <td>False</td>\n",
       "      <td>False</td>\n",
       "      <td>False</td>\n",
       "      <td>False</td>\n",
       "      <td>False</td>\n",
       "    </tr>\n",
       "  </tbody>\n",
       "</table>\n",
       "</div>"
      ],
      "text/plain": [
       "      ID Marital Status  Gender   Income  Children Home Owner  Cars  \\\n",
       "0  12496        Married  Female  40000.0       1.0        Yes   0.0   \n",
       "1  24107        Married    Male  30000.0       3.0        Yes   1.0   \n",
       "2  14177        Married    Male  80000.0       5.0         No   2.0   \n",
       "3  24381         Single       X  70000.0       0.0        Yes   1.0   \n",
       "4  25597         Single    Male  30000.0       0.0         No   0.0   \n",
       "\n",
       "  Commute Distance   Region   Age Purchased Bike  Education_Graduate Degree  \\\n",
       "0        0-1 Miles   Europe  42.0             No                      False   \n",
       "1        0-1 Miles   Europe  43.0             No                      False   \n",
       "2        2-5 Miles   Europe  60.0             No                      False   \n",
       "3       5-10 Miles  Pacific  41.0            Yes                      False   \n",
       "4        0-1 Miles   Europe  36.0            Yes                      False   \n",
       "\n",
       "   Education_High School  Education_Partial College  \\\n",
       "0                  False                      False   \n",
       "1                  False                       True   \n",
       "2                  False                       True   \n",
       "3                  False                      False   \n",
       "4                  False                      False   \n",
       "\n",
       "   Education_Partial High School  Occupation_Management  Occupation_Manual  \\\n",
       "0                          False                  False              False   \n",
       "1                          False                  False              False   \n",
       "2                          False                  False              False   \n",
       "3                          False                  False              False   \n",
       "4                          False                  False              False   \n",
       "\n",
       "   Occupation_Professional  Occupation_Skilled Manual  \n",
       "0                    False                       True  \n",
       "1                    False                      False  \n",
       "2                     True                      False  \n",
       "3                     True                      False  \n",
       "4                    False                      False  "
      ]
     },
     "execution_count": 106,
     "metadata": {},
     "output_type": "execute_result"
    }
   ],
   "source": [
    "bike_buyers.head()"
   ]
  },
  {
   "cell_type": "markdown",
   "metadata": {
    "id": "fsJxR7dKZaL-"
   },
   "source": [
    "# Resolucion Punto 7\n",
    "Definir una estrategia de imputación para las otras variables que corresponda."
   ]
  },
  {
   "cell_type": "markdown",
   "metadata": {},
   "source": [
    "Calcular porcentaje de valores nulos por columna"
   ]
  },
  {
   "cell_type": "code",
   "execution_count": 107,
   "metadata": {},
   "outputs": [],
   "source": [
    "null_percentages = bike_buyers.isna().sum() / bike_buyers.shape[0] * 100"
   ]
  },
  {
   "cell_type": "markdown",
   "metadata": {},
   "source": [
    "Filtrar solo columnas con porcentaje mayor a 0"
   ]
  },
  {
   "cell_type": "code",
   "execution_count": 108,
   "metadata": {},
   "outputs": [],
   "source": [
    "columns_with_nulls = null_percentages[null_percentages > 0]"
   ]
  },
  {
   "cell_type": "markdown",
   "metadata": {},
   "source": [
    "Mostrar el resultado"
   ]
  },
  {
   "cell_type": "code",
   "execution_count": 109,
   "metadata": {
    "colab": {
     "base_uri": "https://localhost:8080/"
    },
    "executionInfo": {
     "elapsed": 5,
     "status": "ok",
     "timestamp": 1745458443456,
     "user": {
      "displayName": "Luis Di Nicco",
      "userId": "09330020554994464081"
     },
     "user_tz": 180
    },
    "id": "LUbIwHKyZiGl",
    "outputId": "fd7d0156-afbb-4398-c5a7-2f8250ec8b05"
   },
   "outputs": [
    {
     "name": "stdout",
     "output_type": "stream",
     "text": [
      "Columnas con valores nulos (%):\n",
      "Marital Status    0.706357\n",
      "Income            0.605449\n",
      "Children          0.807265\n",
      "Home Owner        0.403633\n",
      "dtype: float64\n"
     ]
    }
   ],
   "source": [
    "print(\"Columnas con valores nulos (%):\")\n",
    "print(columns_with_nulls)"
   ]
  },
  {
   "cell_type": "markdown",
   "metadata": {
    "id": "M2da21QQZ3qt"
   },
   "source": [
    "## Imputacion Marital Status\n",
    "Se reemplaza los nulos por el valor moda"
   ]
  },
  {
   "cell_type": "code",
   "execution_count": 110,
   "metadata": {
    "executionInfo": {
     "elapsed": 42,
     "status": "ok",
     "timestamp": 1745458650520,
     "user": {
      "displayName": "Luis Di Nicco",
      "userId": "09330020554994464081"
     },
     "user_tz": 180
    },
    "id": "HPQ-l0TgZ6h8"
   },
   "outputs": [],
   "source": [
    "most_common_marital = bike_buyers['Marital Status'].mode()[0]\n",
    "bike_buyers['Marital Status'] = bike_buyers['Marital Status'].fillna(most_common_marital)"
   ]
  },
  {
   "cell_type": "markdown",
   "metadata": {
    "id": "iqf48gT9Z6PU"
   },
   "source": [
    "## Imputacion Income\n",
    "Se reemplaza los nulos por el valor de la mediana"
   ]
  },
  {
   "cell_type": "code",
   "execution_count": 111,
   "metadata": {
    "executionInfo": {
     "elapsed": 2,
     "status": "ok",
     "timestamp": 1745458706056,
     "user": {
      "displayName": "Luis Di Nicco",
      "userId": "09330020554994464081"
     },
     "user_tz": 180
    },
    "id": "MP9C6jc_apMk"
   },
   "outputs": [],
   "source": [
    "median_income = bike_buyers['Income'].median()\n",
    "bike_buyers['Income'] = bike_buyers['Income'].fillna(median_income)"
   ]
  },
  {
   "cell_type": "markdown",
   "metadata": {
    "id": "diovwT57apVN"
   },
   "source": [
    "## Imputacion Children\n",
    "Se reemplaza los nulos por el valor de la mediana"
   ]
  },
  {
   "cell_type": "code",
   "execution_count": 112,
   "metadata": {
    "executionInfo": {
     "elapsed": 43,
     "status": "ok",
     "timestamp": 1745458733117,
     "user": {
      "displayName": "Luis Di Nicco",
      "userId": "09330020554994464081"
     },
     "user_tz": 180
    },
    "id": "5n3GqbnharQ7"
   },
   "outputs": [],
   "source": [
    "median_children = bike_buyers['Children'].median()\n",
    "bike_buyers['Children'] = bike_buyers['Children'].fillna(median_children)"
   ]
  },
  {
   "cell_type": "markdown",
   "metadata": {
    "id": "1945_mRNarmz"
   },
   "source": [
    "## Imputacion Home Owner\n",
    "Se reemplaza los nulos por el valor moda"
   ]
  },
  {
   "cell_type": "code",
   "execution_count": 113,
   "metadata": {
    "executionInfo": {
     "elapsed": 2,
     "status": "ok",
     "timestamp": 1745458754898,
     "user": {
      "displayName": "Luis Di Nicco",
      "userId": "09330020554994464081"
     },
     "user_tz": 180
    },
    "id": "LBYzHBJSaufb"
   },
   "outputs": [],
   "source": [
    "most_common_owner = bike_buyers['Home Owner'].mode()[0]\n",
    "bike_buyers['Home Owner'] = bike_buyers['Home Owner'].fillna(most_common_owner)"
   ]
  },
  {
   "cell_type": "markdown",
   "metadata": {},
   "source": [
    "Calcular porcentaje de valores nulos por columna"
   ]
  },
  {
   "cell_type": "code",
   "execution_count": 114,
   "metadata": {},
   "outputs": [],
   "source": [
    "null_percentages = bike_buyers.isna().sum() / bike_buyers.shape[0] * 100"
   ]
  },
  {
   "cell_type": "markdown",
   "metadata": {},
   "source": [
    "Filtrar solo columnas con porcentaje mayor a 0"
   ]
  },
  {
   "cell_type": "code",
   "execution_count": 115,
   "metadata": {},
   "outputs": [],
   "source": [
    "columns_with_nulls = null_percentages[null_percentages > 0]"
   ]
  },
  {
   "cell_type": "markdown",
   "metadata": {},
   "source": [
    "Mostrar el resultado"
   ]
  },
  {
   "cell_type": "code",
   "execution_count": 116,
   "metadata": {
    "colab": {
     "base_uri": "https://localhost:8080/"
    },
    "executionInfo": {
     "elapsed": 5,
     "status": "ok",
     "timestamp": 1745458766905,
     "user": {
      "displayName": "Luis Di Nicco",
      "userId": "09330020554994464081"
     },
     "user_tz": 180
    },
    "id": "85b8CmiJcwo5",
    "outputId": "81175e89-9ef7-42d8-c2ab-cf254cd30978"
   },
   "outputs": [
    {
     "name": "stdout",
     "output_type": "stream",
     "text": [
      "Columnas con valores nulos (%):\n",
      "Series([], dtype: float64)\n"
     ]
    }
   ],
   "source": [
    "print(\"Columnas con valores nulos (%):\")\n",
    "print(columns_with_nulls)"
   ]
  },
  {
   "cell_type": "markdown",
   "metadata": {
    "id": "OOGPhWCYczG6"
   },
   "source": [
    "# Resolucion Punto 8\n",
    "Finalizar el análisis exploratorio con gráficos del dataset."
   ]
  },
  {
   "cell_type": "code",
   "execution_count": 117,
   "metadata": {
    "colab": {
     "base_uri": "https://localhost:8080/",
     "height": 472
    },
    "executionInfo": {
     "elapsed": 118,
     "status": "ok",
     "timestamp": 1745458870049,
     "user": {
      "displayName": "Luis Di Nicco",
      "userId": "09330020554994464081"
     },
     "user_tz": 180
    },
    "id": "Tj2NNJgBdK4q",
    "outputId": "477ec74c-9a40-42e2-e511-0eeb6354bbb4"
   },
   "outputs": [
    {
     "data": {
      "image/png": "[encoded data removed]",
      "text/plain": [
       "<Figure size 640x480 with 1 Axes>"
      ]
     },
     "metadata": {},
     "output_type": "display_data"
    }
   ],
   "source": [
    "sns.boxplot(x=bike_buyers['Income'])\n",
    "plt.title('Boxplot de Income')\n",
    "plt.show()"
   ]
  }
 ],
 "metadata": {
  "colab": {
   "collapsed_sections": [
    "y-43zbQ1H6g-",
    "RB0v_FmfMYL6"
   ],
   "provenance": [],
   "toc_visible": true
  },
  "kernelspec": {
   "display_name": "Python 3",
   "language": "python",
   "name": "python3"
  },
  "language_info": {
   "codemirror_mode": {
    "name": "ipython",
    "version": 3
   },
   "file_extension": ".py",
   "mimetype": "text/x-python",
   "name": "python",
   "nbconvert_exporter": "python",
   "pygments_lexer": "ipython3",
   "version": "3.13.5"
  }
 },
 "nbformat": 4,
 "nbformat_minor": 0
}
